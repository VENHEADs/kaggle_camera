{
 "cells": [
  {
   "cell_type": "markdown",
   "metadata": {},
   "source": [
    "# Prepare val"
   ]
  },
  {
   "cell_type": "markdown",
   "metadata": {},
   "source": [
    "For validation I will use: \n",
    " * 25 last images from original train data\n",
    " * 25 images from the external data\n",
    " * 25 images from most confident preedictions in test\n",
    " \n",
    "Everything is per class."
   ]
  },
  {
   "cell_type": "code",
   "execution_count": 3,
   "metadata": {},
   "outputs": [],
   "source": [
    "%matplotlib inline\n",
    "from pylab import *\n",
    "import cv2"
   ]
  },
  {
   "cell_type": "code",
   "execution_count": 4,
   "metadata": {},
   "outputs": [],
   "source": [
    "from pathlib import Path\n",
    "import numpy as np\n",
    "import pandas as pd"
   ]
  },
  {
   "cell_type": "code",
   "execution_count": 5,
   "metadata": {},
   "outputs": [],
   "source": [
    "data_path = Path('../data')"
   ]
  },
  {
   "cell_type": "code",
   "execution_count": 7,
   "metadata": {},
   "outputs": [],
   "source": [
    "test_preds = pd.read_csv(str(data_path / 'Votings_stats.csv'))"
   ]
  },
  {
   "cell_type": "code",
   "execution_count": 8,
   "metadata": {},
   "outputs": [
    {
     "data": {
      "text/html": [
       "<div>\n",
       "<style scoped>\n",
       "    .dataframe tbody tr th:only-of-type {\n",
       "        vertical-align: middle;\n",
       "    }\n",
       "\n",
       "    .dataframe tbody tr th {\n",
       "        vertical-align: top;\n",
       "    }\n",
       "\n",
       "    .dataframe thead th {\n",
       "        text-align: right;\n",
       "    }\n",
       "</style>\n",
       "<table border=\"1\" class=\"dataframe\">\n",
       "  <thead>\n",
       "    <tr style=\"text-align: right;\">\n",
       "      <th></th>\n",
       "      <th>fname</th>\n",
       "      <th>arsenyinfo_top1</th>\n",
       "      <th>arsenyinfo_top2</th>\n",
       "      <th>bes_top1</th>\n",
       "      <th>bes_top2</th>\n",
       "      <th>mephistopheies_top1</th>\n",
       "      <th>mephistopheies_top2</th>\n",
       "      <th>cortwave_top1</th>\n",
       "      <th>cortwave_top2</th>\n",
       "      <th>ternaus</th>\n",
       "      <th>is_manip</th>\n",
       "      <th>best_model</th>\n",
       "      <th>votes</th>\n",
       "    </tr>\n",
       "  </thead>\n",
       "  <tbody>\n",
       "    <tr>\n",
       "      <th>0</th>\n",
       "      <td>img_8f75e8d_manip.tif</td>\n",
       "      <td>LG-Nexus-5x</td>\n",
       "      <td>Motorola-Nexus-6</td>\n",
       "      <td>Motorola-Nexus-6</td>\n",
       "      <td>LG-Nexus-5x</td>\n",
       "      <td>Motorola-Nexus-6</td>\n",
       "      <td>Motorola-Nexus-6</td>\n",
       "      <td>LG-Nexus-5x</td>\n",
       "      <td>LG-Nexus-5x</td>\n",
       "      <td>Motorola-Nexus-6</td>\n",
       "      <td>manip</td>\n",
       "      <td>Motorola-Nexus-6</td>\n",
       "      <td>5</td>\n",
       "    </tr>\n",
       "    <tr>\n",
       "      <th>1</th>\n",
       "      <td>img_467a3e0_manip.tif</td>\n",
       "      <td>iPhone-4s</td>\n",
       "      <td>Motorola-Droid-Maxx</td>\n",
       "      <td>iPhone-4s</td>\n",
       "      <td>iPhone-4s</td>\n",
       "      <td>iPhone-4s</td>\n",
       "      <td>iPhone-4s</td>\n",
       "      <td>Motorola-Droid-Maxx</td>\n",
       "      <td>Motorola-Droid-Maxx</td>\n",
       "      <td>iPhone-4s</td>\n",
       "      <td>manip</td>\n",
       "      <td>iPhone-4s</td>\n",
       "      <td>6</td>\n",
       "    </tr>\n",
       "    <tr>\n",
       "      <th>2</th>\n",
       "      <td>img_eac0494_unalt.tif</td>\n",
       "      <td>Motorola-X</td>\n",
       "      <td>Motorola-X</td>\n",
       "      <td>Motorola-X</td>\n",
       "      <td>Motorola-X</td>\n",
       "      <td>Motorola-X</td>\n",
       "      <td>Motorola-X</td>\n",
       "      <td>Motorola-X</td>\n",
       "      <td>Motorola-X</td>\n",
       "      <td>Motorola-X</td>\n",
       "      <td>unalt</td>\n",
       "      <td>Motorola-X</td>\n",
       "      <td>9</td>\n",
       "    </tr>\n",
       "    <tr>\n",
       "      <th>3</th>\n",
       "      <td>img_de44aae_unalt.tif</td>\n",
       "      <td>Motorola-Droid-Maxx</td>\n",
       "      <td>Motorola-Droid-Maxx</td>\n",
       "      <td>Motorola-Droid-Maxx</td>\n",
       "      <td>Motorola-Droid-Maxx</td>\n",
       "      <td>Motorola-Droid-Maxx</td>\n",
       "      <td>Motorola-Droid-Maxx</td>\n",
       "      <td>Motorola-Droid-Maxx</td>\n",
       "      <td>Motorola-Droid-Maxx</td>\n",
       "      <td>Motorola-Droid-Maxx</td>\n",
       "      <td>unalt</td>\n",
       "      <td>Motorola-Droid-Maxx</td>\n",
       "      <td>9</td>\n",
       "    </tr>\n",
       "    <tr>\n",
       "      <th>4</th>\n",
       "      <td>img_c4d4fb0_unalt.tif</td>\n",
       "      <td>LG-Nexus-5x</td>\n",
       "      <td>LG-Nexus-5x</td>\n",
       "      <td>LG-Nexus-5x</td>\n",
       "      <td>LG-Nexus-5x</td>\n",
       "      <td>LG-Nexus-5x</td>\n",
       "      <td>LG-Nexus-5x</td>\n",
       "      <td>LG-Nexus-5x</td>\n",
       "      <td>LG-Nexus-5x</td>\n",
       "      <td>iPhone-6</td>\n",
       "      <td>unalt</td>\n",
       "      <td>LG-Nexus-5x</td>\n",
       "      <td>8</td>\n",
       "    </tr>\n",
       "  </tbody>\n",
       "</table>\n",
       "</div>"
      ],
      "text/plain": [
       "                   fname      arsenyinfo_top1      arsenyinfo_top2  \\\n",
       "0  img_8f75e8d_manip.tif          LG-Nexus-5x     Motorola-Nexus-6   \n",
       "1  img_467a3e0_manip.tif            iPhone-4s  Motorola-Droid-Maxx   \n",
       "2  img_eac0494_unalt.tif           Motorola-X           Motorola-X   \n",
       "3  img_de44aae_unalt.tif  Motorola-Droid-Maxx  Motorola-Droid-Maxx   \n",
       "4  img_c4d4fb0_unalt.tif          LG-Nexus-5x          LG-Nexus-5x   \n",
       "\n",
       "              bes_top1             bes_top2  mephistopheies_top1  \\\n",
       "0     Motorola-Nexus-6          LG-Nexus-5x     Motorola-Nexus-6   \n",
       "1            iPhone-4s            iPhone-4s            iPhone-4s   \n",
       "2           Motorola-X           Motorola-X           Motorola-X   \n",
       "3  Motorola-Droid-Maxx  Motorola-Droid-Maxx  Motorola-Droid-Maxx   \n",
       "4          LG-Nexus-5x          LG-Nexus-5x          LG-Nexus-5x   \n",
       "\n",
       "   mephistopheies_top2        cortwave_top1        cortwave_top2  \\\n",
       "0     Motorola-Nexus-6          LG-Nexus-5x          LG-Nexus-5x   \n",
       "1            iPhone-4s  Motorola-Droid-Maxx  Motorola-Droid-Maxx   \n",
       "2           Motorola-X           Motorola-X           Motorola-X   \n",
       "3  Motorola-Droid-Maxx  Motorola-Droid-Maxx  Motorola-Droid-Maxx   \n",
       "4          LG-Nexus-5x          LG-Nexus-5x          LG-Nexus-5x   \n",
       "\n",
       "               ternaus is_manip           best_model  votes  \n",
       "0     Motorola-Nexus-6    manip     Motorola-Nexus-6      5  \n",
       "1            iPhone-4s    manip            iPhone-4s      6  \n",
       "2           Motorola-X    unalt           Motorola-X      9  \n",
       "3  Motorola-Droid-Maxx    unalt  Motorola-Droid-Maxx      9  \n",
       "4             iPhone-6    unalt          LG-Nexus-5x      8  "
      ]
     },
     "execution_count": 8,
     "metadata": {},
     "output_type": "execute_result"
    }
   ],
   "source": [
    "test_preds.head()"
   ]
  },
  {
   "cell_type": "code",
   "execution_count": 9,
   "metadata": {},
   "outputs": [
    {
     "data": {
      "text/plain": [
       "(2640, 13)"
      ]
     },
     "execution_count": 9,
     "metadata": {},
     "output_type": "execute_result"
    }
   ],
   "source": [
    "test_preds.shape"
   ]
  },
  {
   "cell_type": "code",
   "execution_count": 16,
   "metadata": {},
   "outputs": [],
   "source": [
    "temp = []\n",
    "\n",
    "for a, df in test_preds[['fname', 'is_manip', 'best_model', 'votes']].groupby(['best_model', 'is_manip']):\n",
    "    temp += [df.sort_values('votes', ascending=False).head(25)]\n",
    "    "
   ]
  },
  {
   "cell_type": "code",
   "execution_count": 19,
   "metadata": {},
   "outputs": [],
   "source": [
    "test_preds_trunc = pd.concat(temp)"
   ]
  },
  {
   "cell_type": "code",
   "execution_count": 23,
   "metadata": {},
   "outputs": [
    {
     "data": {
      "text/html": [
       "<div>\n",
       "<style scoped>\n",
       "    .dataframe tbody tr th:only-of-type {\n",
       "        vertical-align: middle;\n",
       "    }\n",
       "\n",
       "    .dataframe tbody tr th {\n",
       "        vertical-align: top;\n",
       "    }\n",
       "\n",
       "    .dataframe thead th {\n",
       "        text-align: right;\n",
       "    }\n",
       "</style>\n",
       "<table border=\"1\" class=\"dataframe\">\n",
       "  <thead>\n",
       "    <tr style=\"text-align: right;\">\n",
       "      <th></th>\n",
       "      <th>fname</th>\n",
       "      <th>is_manip</th>\n",
       "      <th>best_model</th>\n",
       "      <th>votes</th>\n",
       "    </tr>\n",
       "  </thead>\n",
       "  <tbody>\n",
       "    <tr>\n",
       "      <th>23</th>\n",
       "      <td>img_867a314_manip.tif</td>\n",
       "      <td>manip</td>\n",
       "      <td>HTC-1-M7</td>\n",
       "      <td>9</td>\n",
       "    </tr>\n",
       "    <tr>\n",
       "      <th>1498</th>\n",
       "      <td>img_10d4985_manip.tif</td>\n",
       "      <td>manip</td>\n",
       "      <td>HTC-1-M7</td>\n",
       "      <td>9</td>\n",
       "    </tr>\n",
       "    <tr>\n",
       "      <th>1708</th>\n",
       "      <td>img_d08048c_manip.tif</td>\n",
       "      <td>manip</td>\n",
       "      <td>HTC-1-M7</td>\n",
       "      <td>9</td>\n",
       "    </tr>\n",
       "    <tr>\n",
       "      <th>1673</th>\n",
       "      <td>img_103a8d3_manip.tif</td>\n",
       "      <td>manip</td>\n",
       "      <td>HTC-1-M7</td>\n",
       "      <td>9</td>\n",
       "    </tr>\n",
       "    <tr>\n",
       "      <th>1671</th>\n",
       "      <td>img_5cd9d50_manip.tif</td>\n",
       "      <td>manip</td>\n",
       "      <td>HTC-1-M7</td>\n",
       "      <td>9</td>\n",
       "    </tr>\n",
       "  </tbody>\n",
       "</table>\n",
       "</div>"
      ],
      "text/plain": [
       "                      fname is_manip best_model  votes\n",
       "23    img_867a314_manip.tif    manip   HTC-1-M7      9\n",
       "1498  img_10d4985_manip.tif    manip   HTC-1-M7      9\n",
       "1708  img_d08048c_manip.tif    manip   HTC-1-M7      9\n",
       "1673  img_103a8d3_manip.tif    manip   HTC-1-M7      9\n",
       "1671  img_5cd9d50_manip.tif    manip   HTC-1-M7      9"
      ]
     },
     "execution_count": 23,
     "metadata": {},
     "output_type": "execute_result"
    }
   ],
   "source": [
    "test_preds_trunc.head()"
   ]
  },
  {
   "cell_type": "code",
   "execution_count": 27,
   "metadata": {},
   "outputs": [],
   "source": [
    "test_preds_trunc['file_name'] = test_preds_trunc['fname'].apply(lambda x: (data_path / 'test' / x).absolute(), 1)"
   ]
  },
  {
   "cell_type": "code",
   "execution_count": 29,
   "metadata": {},
   "outputs": [],
   "source": [
    "test_preds_trunc = test_preds_trunc.rename(columns={'best_model': 'target'})"
   ]
  },
  {
   "cell_type": "code",
   "execution_count": 30,
   "metadata": {},
   "outputs": [],
   "source": [
    "test_preds_trunc.to_csv(str(data_path / 'test_preds_trunc.csv'), index=False)"
   ]
  },
  {
   "cell_type": "markdown",
   "metadata": {},
   "source": [
    "# Now let's get last 5 from train"
   ]
  },
  {
   "cell_type": "code",
   "execution_count": 31,
   "metadata": {},
   "outputs": [],
   "source": [
    "train_path = data_path / 'train'"
   ]
  },
  {
   "cell_type": "code",
   "execution_count": 52,
   "metadata": {},
   "outputs": [],
   "source": [
    "train_file_names = list(train_path.glob('**/*.*'))"
   ]
  },
  {
   "cell_type": "code",
   "execution_count": 53,
   "metadata": {},
   "outputs": [],
   "source": [
    "train_file_names = [x.absolute() for x in train_file_names]"
   ]
  },
  {
   "cell_type": "code",
   "execution_count": 54,
   "metadata": {},
   "outputs": [],
   "source": [
    "df = pd.DataFrame({'file_name': train_file_names})"
   ]
  },
  {
   "cell_type": "code",
   "execution_count": 58,
   "metadata": {},
   "outputs": [],
   "source": [
    "df['fname'] = df['file_name'].apply(lambda x: x.name, 1)"
   ]
  },
  {
   "cell_type": "code",
   "execution_count": 59,
   "metadata": {},
   "outputs": [],
   "source": [
    "df['target'] = df['file_name'].apply(lambda x: x.parent.name, 1)"
   ]
  },
  {
   "cell_type": "code",
   "execution_count": 60,
   "metadata": {},
   "outputs": [
    {
     "data": {
      "text/plain": [
       "[PosixPath('/mnt/6e9adcc8-9cfe-4dbb-aaff-c2ae9c64a9bc/workspace/kaggle_camera/notebooks/../data/train/Sony-NEX-7/(Nex7)198.JPG'),\n",
       " PosixPath('/mnt/6e9adcc8-9cfe-4dbb-aaff-c2ae9c64a9bc/workspace/kaggle_camera/notebooks/../data/train/Sony-NEX-7/(Nex7)143.JPG')]"
      ]
     },
     "execution_count": 60,
     "metadata": {},
     "output_type": "execute_result"
    }
   ],
   "source": [
    "train_file_names[:2]"
   ]
  },
  {
   "cell_type": "code",
   "execution_count": 65,
   "metadata": {},
   "outputs": [
    {
     "data": {
      "text/html": [
       "<div>\n",
       "<style scoped>\n",
       "    .dataframe tbody tr th:only-of-type {\n",
       "        vertical-align: middle;\n",
       "    }\n",
       "\n",
       "    .dataframe tbody tr th {\n",
       "        vertical-align: top;\n",
       "    }\n",
       "\n",
       "    .dataframe thead th {\n",
       "        text-align: right;\n",
       "    }\n",
       "</style>\n",
       "<table border=\"1\" class=\"dataframe\">\n",
       "  <thead>\n",
       "    <tr style=\"text-align: right;\">\n",
       "      <th></th>\n",
       "      <th>file_name</th>\n",
       "      <th>target</th>\n",
       "      <th>fname</th>\n",
       "      <th>ind</th>\n",
       "    </tr>\n",
       "  </thead>\n",
       "  <tbody>\n",
       "    <tr>\n",
       "      <th>0</th>\n",
       "      <td>/mnt/6e9adcc8-9cfe-4dbb-aaff-c2ae9c64a9bc/work...</td>\n",
       "      <td>Sony-NEX-7</td>\n",
       "      <td>(Nex7)198.JPG</td>\n",
       "      <td>8</td>\n",
       "    </tr>\n",
       "    <tr>\n",
       "      <th>1</th>\n",
       "      <td>/mnt/6e9adcc8-9cfe-4dbb-aaff-c2ae9c64a9bc/work...</td>\n",
       "      <td>Sony-NEX-7</td>\n",
       "      <td>(Nex7)143.JPG</td>\n",
       "      <td>3</td>\n",
       "    </tr>\n",
       "    <tr>\n",
       "      <th>2</th>\n",
       "      <td>/mnt/6e9adcc8-9cfe-4dbb-aaff-c2ae9c64a9bc/work...</td>\n",
       "      <td>Sony-NEX-7</td>\n",
       "      <td>(Nex7)122.JPG</td>\n",
       "      <td>2</td>\n",
       "    </tr>\n",
       "    <tr>\n",
       "      <th>3</th>\n",
       "      <td>/mnt/6e9adcc8-9cfe-4dbb-aaff-c2ae9c64a9bc/work...</td>\n",
       "      <td>Sony-NEX-7</td>\n",
       "      <td>(Nex7)223.JPG</td>\n",
       "      <td>3</td>\n",
       "    </tr>\n",
       "    <tr>\n",
       "      <th>4</th>\n",
       "      <td>/mnt/6e9adcc8-9cfe-4dbb-aaff-c2ae9c64a9bc/work...</td>\n",
       "      <td>Sony-NEX-7</td>\n",
       "      <td>(Nex7)266.JPG</td>\n",
       "      <td>6</td>\n",
       "    </tr>\n",
       "  </tbody>\n",
       "</table>\n",
       "</div>"
      ],
      "text/plain": [
       "                                           file_name      target  \\\n",
       "0  /mnt/6e9adcc8-9cfe-4dbb-aaff-c2ae9c64a9bc/work...  Sony-NEX-7   \n",
       "1  /mnt/6e9adcc8-9cfe-4dbb-aaff-c2ae9c64a9bc/work...  Sony-NEX-7   \n",
       "2  /mnt/6e9adcc8-9cfe-4dbb-aaff-c2ae9c64a9bc/work...  Sony-NEX-7   \n",
       "3  /mnt/6e9adcc8-9cfe-4dbb-aaff-c2ae9c64a9bc/work...  Sony-NEX-7   \n",
       "4  /mnt/6e9adcc8-9cfe-4dbb-aaff-c2ae9c64a9bc/work...  Sony-NEX-7   \n",
       "\n",
       "           fname ind  \n",
       "0  (Nex7)198.JPG   8  \n",
       "1  (Nex7)143.JPG   3  \n",
       "2  (Nex7)122.JPG   2  \n",
       "3  (Nex7)223.JPG   3  \n",
       "4  (Nex7)266.JPG   6  "
      ]
     },
     "execution_count": 65,
     "metadata": {},
     "output_type": "execute_result"
    }
   ],
   "source": [
    "df.head()\n"
   ]
  },
  {
   "cell_type": "code",
   "execution_count": 84,
   "metadata": {},
   "outputs": [
    {
     "name": "stderr",
     "output_type": "stream",
     "text": [
      "/home/vladimir/anaconda3/lib/python3.6/site-packages/ipykernel_launcher.py:1: FutureWarning: currently extract(expand=None) means expand=False (return Index/Series/DataFrame) but in a future version of pandas this will be changed to expand=True (return DataFrame)\n",
      "  \"\"\"Entry point for launching an IPython kernel.\n"
     ]
    }
   ],
   "source": [
    "df['ind'] = df['fname'].str.extract('.*\\)(\\d+)\\..*').astype(int)"
   ]
  },
  {
   "cell_type": "code",
   "execution_count": 85,
   "metadata": {},
   "outputs": [],
   "source": [
    "temp_val = []\n",
    "\n",
    "for target, dft in df.groupby('target'):\n",
    "    temp_val += [dft.sort_values(by='ind', ascending=False).head(25)]"
   ]
  },
  {
   "cell_type": "code",
   "execution_count": 86,
   "metadata": {},
   "outputs": [],
   "source": [
    "df_train_val = pd.concat(temp_val)"
   ]
  },
  {
   "cell_type": "code",
   "execution_count": 92,
   "metadata": {},
   "outputs": [],
   "source": [
    "df_train_train = df[df['ind'] <= 250]"
   ]
  },
  {
   "cell_type": "code",
   "execution_count": 93,
   "metadata": {},
   "outputs": [
    {
     "data": {
      "text/plain": [
       "(250, 4)"
      ]
     },
     "execution_count": 93,
     "metadata": {},
     "output_type": "execute_result"
    }
   ],
   "source": [
    "df_train_val.shape"
   ]
  },
  {
   "cell_type": "code",
   "execution_count": 94,
   "metadata": {},
   "outputs": [
    {
     "data": {
      "text/plain": [
       "(2500, 4)"
      ]
     },
     "execution_count": 94,
     "metadata": {},
     "output_type": "execute_result"
    }
   ],
   "source": [
    "df_train_train.shape"
   ]
  },
  {
   "cell_type": "code",
   "execution_count": 96,
   "metadata": {},
   "outputs": [
    {
     "data": {
      "text/html": [
       "<div>\n",
       "<style scoped>\n",
       "    .dataframe tbody tr th:only-of-type {\n",
       "        vertical-align: middle;\n",
       "    }\n",
       "\n",
       "    .dataframe tbody tr th {\n",
       "        vertical-align: top;\n",
       "    }\n",
       "\n",
       "    .dataframe thead th {\n",
       "        text-align: right;\n",
       "    }\n",
       "</style>\n",
       "<table border=\"1\" class=\"dataframe\">\n",
       "  <thead>\n",
       "    <tr style=\"text-align: right;\">\n",
       "      <th></th>\n",
       "      <th>file_name</th>\n",
       "      <th>target</th>\n",
       "      <th>fname</th>\n",
       "      <th>ind</th>\n",
       "    </tr>\n",
       "  </thead>\n",
       "  <tbody>\n",
       "    <tr>\n",
       "      <th>0</th>\n",
       "      <td>/mnt/6e9adcc8-9cfe-4dbb-aaff-c2ae9c64a9bc/work...</td>\n",
       "      <td>Sony-NEX-7</td>\n",
       "      <td>(Nex7)198.JPG</td>\n",
       "      <td>198</td>\n",
       "    </tr>\n",
       "    <tr>\n",
       "      <th>1</th>\n",
       "      <td>/mnt/6e9adcc8-9cfe-4dbb-aaff-c2ae9c64a9bc/work...</td>\n",
       "      <td>Sony-NEX-7</td>\n",
       "      <td>(Nex7)143.JPG</td>\n",
       "      <td>143</td>\n",
       "    </tr>\n",
       "    <tr>\n",
       "      <th>2</th>\n",
       "      <td>/mnt/6e9adcc8-9cfe-4dbb-aaff-c2ae9c64a9bc/work...</td>\n",
       "      <td>Sony-NEX-7</td>\n",
       "      <td>(Nex7)122.JPG</td>\n",
       "      <td>122</td>\n",
       "    </tr>\n",
       "    <tr>\n",
       "      <th>3</th>\n",
       "      <td>/mnt/6e9adcc8-9cfe-4dbb-aaff-c2ae9c64a9bc/work...</td>\n",
       "      <td>Sony-NEX-7</td>\n",
       "      <td>(Nex7)223.JPG</td>\n",
       "      <td>223</td>\n",
       "    </tr>\n",
       "    <tr>\n",
       "      <th>5</th>\n",
       "      <td>/mnt/6e9adcc8-9cfe-4dbb-aaff-c2ae9c64a9bc/work...</td>\n",
       "      <td>Sony-NEX-7</td>\n",
       "      <td>(Nex7)214.JPG</td>\n",
       "      <td>214</td>\n",
       "    </tr>\n",
       "  </tbody>\n",
       "</table>\n",
       "</div>"
      ],
      "text/plain": [
       "                                           file_name      target  \\\n",
       "0  /mnt/6e9adcc8-9cfe-4dbb-aaff-c2ae9c64a9bc/work...  Sony-NEX-7   \n",
       "1  /mnt/6e9adcc8-9cfe-4dbb-aaff-c2ae9c64a9bc/work...  Sony-NEX-7   \n",
       "2  /mnt/6e9adcc8-9cfe-4dbb-aaff-c2ae9c64a9bc/work...  Sony-NEX-7   \n",
       "3  /mnt/6e9adcc8-9cfe-4dbb-aaff-c2ae9c64a9bc/work...  Sony-NEX-7   \n",
       "5  /mnt/6e9adcc8-9cfe-4dbb-aaff-c2ae9c64a9bc/work...  Sony-NEX-7   \n",
       "\n",
       "           fname  ind  \n",
       "0  (Nex7)198.JPG  198  \n",
       "1  (Nex7)143.JPG  143  \n",
       "2  (Nex7)122.JPG  122  \n",
       "3  (Nex7)223.JPG  223  \n",
       "5  (Nex7)214.JPG  214  "
      ]
     },
     "execution_count": 96,
     "metadata": {},
     "output_type": "execute_result"
    }
   ],
   "source": [
    "df_train_train.head()"
   ]
  },
  {
   "cell_type": "code",
   "execution_count": 97,
   "metadata": {},
   "outputs": [],
   "source": [
    "df_train_val.to_csv(str(data_path / 'val_df.csv'), index=False)"
   ]
  },
  {
   "cell_type": "code",
   "execution_count": 98,
   "metadata": {},
   "outputs": [],
   "source": [
    "df_train_train.to_csv(str(data_path / 'train_df.csv'), index=False)"
   ]
  },
  {
   "cell_type": "markdown",
   "metadata": {},
   "source": [
    "# Add first 25 images from flickr data"
   ]
  },
  {
   "cell_type": "code",
   "execution_count": 563,
   "metadata": {},
   "outputs": [],
   "source": [
    "flickr_path = data_path / 'flickr_images'"
   ]
  },
  {
   "cell_type": "code",
   "execution_count": 564,
   "metadata": {},
   "outputs": [],
   "source": [
    "flickr_file_names = list(flickr_path.glob('**/*.*'))"
   ]
  },
  {
   "cell_type": "code",
   "execution_count": 565,
   "metadata": {},
   "outputs": [],
   "source": [
    "flickr_file_names = [x.absolute() for x in flickr_file_names]"
   ]
  },
  {
   "cell_type": "code",
   "execution_count": 566,
   "metadata": {},
   "outputs": [
    {
     "data": {
      "text/plain": [
       "[PosixPath('/mnt/6e9adcc8-9cfe-4dbb-aaff-c2ae9c64a9bc/workspace/kaggle_camera/notebooks/../data/flickr_images/Sony-NEX-7/24608015988_293dedc509_o.jpg'),\n",
       " PosixPath('/mnt/6e9adcc8-9cfe-4dbb-aaff-c2ae9c64a9bc/workspace/kaggle_camera/notebooks/../data/flickr_images/Sony-NEX-7/37112683936_07b43eb289_o.jpg'),\n",
       " PosixPath('/mnt/6e9adcc8-9cfe-4dbb-aaff-c2ae9c64a9bc/workspace/kaggle_camera/notebooks/../data/flickr_images/Sony-NEX-7/38685798051_21049c15dd_o.jpg'),\n",
       " PosixPath('/mnt/6e9adcc8-9cfe-4dbb-aaff-c2ae9c64a9bc/workspace/kaggle_camera/notebooks/../data/flickr_images/Sony-NEX-7/37610151464_0e87f5ec4a_o.jpg'),\n",
       " PosixPath('/mnt/6e9adcc8-9cfe-4dbb-aaff-c2ae9c64a9bc/workspace/kaggle_camera/notebooks/../data/flickr_images/Sony-NEX-7/27281298819_9785085140_o.jpg'),\n",
       " PosixPath('/mnt/6e9adcc8-9cfe-4dbb-aaff-c2ae9c64a9bc/workspace/kaggle_camera/notebooks/../data/flickr_images/Sony-NEX-7/38110820322_0d04b9202c_o.jpg'),\n",
       " PosixPath('/mnt/6e9adcc8-9cfe-4dbb-aaff-c2ae9c64a9bc/workspace/kaggle_camera/notebooks/../data/flickr_images/Sony-NEX-7/37225351860_075af0513f_o.jpg'),\n",
       " PosixPath('/mnt/6e9adcc8-9cfe-4dbb-aaff-c2ae9c64a9bc/workspace/kaggle_camera/notebooks/../data/flickr_images/Sony-NEX-7/39172362931_49db50cc6e_o.jpg'),\n",
       " PosixPath('/mnt/6e9adcc8-9cfe-4dbb-aaff-c2ae9c64a9bc/workspace/kaggle_camera/notebooks/../data/flickr_images/Sony-NEX-7/37967006724_569e90d19c_o.jpg'),\n",
       " PosixPath('/mnt/6e9adcc8-9cfe-4dbb-aaff-c2ae9c64a9bc/workspace/kaggle_camera/notebooks/../data/flickr_images/Sony-NEX-7/38029697032_b7b0f6ffef_o.jpg')]"
      ]
     },
     "execution_count": 566,
     "metadata": {},
     "output_type": "execute_result"
    }
   ],
   "source": [
    "flickr_file_names[:10]"
   ]
  },
  {
   "cell_type": "code",
   "execution_count": 567,
   "metadata": {},
   "outputs": [],
   "source": [
    "good_files = pd.read_csv(str(data_path / 'good_jpgs'), header=None)"
   ]
  },
  {
   "cell_type": "code",
   "execution_count": 568,
   "metadata": {},
   "outputs": [],
   "source": [
    "good_files['target'] = good_files[0].str.split('/').str.get(1)"
   ]
  },
  {
   "cell_type": "code",
   "execution_count": 569,
   "metadata": {},
   "outputs": [
    {
     "data": {
      "text/plain": [
       "array(['iphone_6', 'nexus_6', 'nexus_5x', 'moto_maxx', 'htc_m7',\n",
       "       'iphone_4s', 'sony_nex7', 'samsung_s4', 'samsung_note3'], dtype=object)"
      ]
     },
     "execution_count": 569,
     "metadata": {},
     "output_type": "execute_result"
    }
   ],
   "source": [
    "good_files['target'].unique()"
   ]
  },
  {
   "cell_type": "code",
   "execution_count": 570,
   "metadata": {},
   "outputs": [
    {
     "data": {
      "text/html": [
       "<div>\n",
       "<style scoped>\n",
       "    .dataframe tbody tr th:only-of-type {\n",
       "        vertical-align: middle;\n",
       "    }\n",
       "\n",
       "    .dataframe tbody tr th {\n",
       "        vertical-align: top;\n",
       "    }\n",
       "\n",
       "    .dataframe thead th {\n",
       "        text-align: right;\n",
       "    }\n",
       "</style>\n",
       "<table border=\"1\" class=\"dataframe\">\n",
       "  <thead>\n",
       "    <tr style=\"text-align: right;\">\n",
       "      <th></th>\n",
       "      <th>0</th>\n",
       "      <th>target</th>\n",
       "    </tr>\n",
       "  </thead>\n",
       "  <tbody>\n",
       "    <tr>\n",
       "      <th>0</th>\n",
       "      <td>./iphone_6/25563861418_8d7f66072a_o.jpg</td>\n",
       "      <td>iphone_6</td>\n",
       "    </tr>\n",
       "    <tr>\n",
       "      <th>1</th>\n",
       "      <td>./iphone_6/24568168517_2156a82e69_o.jpg</td>\n",
       "      <td>iphone_6</td>\n",
       "    </tr>\n",
       "    <tr>\n",
       "      <th>2</th>\n",
       "      <td>./iphone_6/39399094622_a1b6a0e180_o.jpg</td>\n",
       "      <td>iphone_6</td>\n",
       "    </tr>\n",
       "    <tr>\n",
       "      <th>3</th>\n",
       "      <td>./iphone_6/27636118319_f2a473fe32_o.jpg</td>\n",
       "      <td>iphone_6</td>\n",
       "    </tr>\n",
       "    <tr>\n",
       "      <th>4</th>\n",
       "      <td>./iphone_6/25537289038_bcf25bef2b_o.jpg</td>\n",
       "      <td>iphone_6</td>\n",
       "    </tr>\n",
       "  </tbody>\n",
       "</table>\n",
       "</div>"
      ],
      "text/plain": [
       "                                         0    target\n",
       "0  ./iphone_6/25563861418_8d7f66072a_o.jpg  iphone_6\n",
       "1  ./iphone_6/24568168517_2156a82e69_o.jpg  iphone_6\n",
       "2  ./iphone_6/39399094622_a1b6a0e180_o.jpg  iphone_6\n",
       "3  ./iphone_6/27636118319_f2a473fe32_o.jpg  iphone_6\n",
       "4  ./iphone_6/25537289038_bcf25bef2b_o.jpg  iphone_6"
      ]
     },
     "execution_count": 570,
     "metadata": {},
     "output_type": "execute_result"
    }
   ],
   "source": [
    "good_files.head()"
   ]
  },
  {
   "cell_type": "code",
   "execution_count": 571,
   "metadata": {},
   "outputs": [],
   "source": [
    "good_files['fname'] = good_files[0].apply(lambda x: x.split('/')[-1], 1)"
   ]
  },
  {
   "cell_type": "code",
   "execution_count": 572,
   "metadata": {},
   "outputs": [],
   "source": [
    "good_files['file_name'] = good_files.apply(lambda x: (flickr_path / x['target'] / x['fname']).absolute(), 1)"
   ]
  },
  {
   "cell_type": "code",
   "execution_count": 573,
   "metadata": {},
   "outputs": [],
   "source": [
    "# There is no Motorola X!"
   ]
  },
  {
   "cell_type": "code",
   "execution_count": 574,
   "metadata": {},
   "outputs": [],
   "source": [
    "map_phone = {'iphone_6': 'iPhone-6', \n",
    "             'nexus_6': 'Motorola-Nexus-6', \n",
    "             'nexus_5x': 'LG-Nexus-5x', \n",
    "             'moto_maxx': 'Motorola-Droid-Maxx', \n",
    "             'htc_m7': 'HTC-1-M7',\n",
    "             'iphone_4s': 'iPhone-4s', \n",
    "             'sony_nex7': 'Sony-NEX-7', \n",
    "             'samsung_s4': 'Samsung-Galaxy-S4', \n",
    "             'samsung_note3': 'Samsung-Galaxy-Note3'}"
   ]
  },
  {
   "cell_type": "code",
   "execution_count": 575,
   "metadata": {},
   "outputs": [],
   "source": [
    "good_files['target'] = good_files['target'].apply(lambda x: map_phone[x])"
   ]
  },
  {
   "cell_type": "code",
   "execution_count": 576,
   "metadata": {},
   "outputs": [
    {
     "data": {
      "text/plain": [
       "array(['iPhone-6', 'Motorola-Nexus-6', 'LG-Nexus-5x',\n",
       "       'Motorola-Droid-Maxx', 'HTC-1-M7', 'iPhone-4s', 'Sony-NEX-7',\n",
       "       'Samsung-Galaxy-S4', 'Samsung-Galaxy-Note3'], dtype=object)"
      ]
     },
     "execution_count": 576,
     "metadata": {},
     "output_type": "execute_result"
    }
   ],
   "source": [
    "good_files['target'].unique()"
   ]
  },
  {
   "cell_type": "code",
   "execution_count": 577,
   "metadata": {},
   "outputs": [],
   "source": [
    "df_flickr = pd.DataFrame({'file_name': flickr_file_names})"
   ]
  },
  {
   "cell_type": "code",
   "execution_count": 578,
   "metadata": {},
   "outputs": [],
   "source": [
    "df_flickr['target'] = df_flickr['file_name'].apply(lambda x: x.parent.name, 1)"
   ]
  },
  {
   "cell_type": "code",
   "execution_count": 579,
   "metadata": {},
   "outputs": [],
   "source": [
    "df_flickr['fname'] = df_flickr['file_name'].apply(lambda x: x.name, 1)"
   ]
  },
  {
   "cell_type": "code",
   "execution_count": 580,
   "metadata": {},
   "outputs": [
    {
     "data": {
      "text/plain": [
       "(11603, 3)"
      ]
     },
     "execution_count": 580,
     "metadata": {},
     "output_type": "execute_result"
    }
   ],
   "source": [
    "df_flickr.shape"
   ]
  },
  {
   "cell_type": "code",
   "execution_count": 581,
   "metadata": {},
   "outputs": [],
   "source": [
    "Moto_X = df_flickr[df_flickr['target'] == 'Motorola-X']"
   ]
  },
  {
   "cell_type": "code",
   "execution_count": 582,
   "metadata": {},
   "outputs": [],
   "source": [
    "to_good_moto_x = Moto_X.head(25)"
   ]
  },
  {
   "cell_type": "code",
   "execution_count": 583,
   "metadata": {},
   "outputs": [
    {
     "data": {
      "text/html": [
       "<div>\n",
       "<style scoped>\n",
       "    .dataframe tbody tr th:only-of-type {\n",
       "        vertical-align: middle;\n",
       "    }\n",
       "\n",
       "    .dataframe tbody tr th {\n",
       "        vertical-align: top;\n",
       "    }\n",
       "\n",
       "    .dataframe thead th {\n",
       "        text-align: right;\n",
       "    }\n",
       "</style>\n",
       "<table border=\"1\" class=\"dataframe\">\n",
       "  <thead>\n",
       "    <tr style=\"text-align: right;\">\n",
       "      <th></th>\n",
       "      <th>file_name</th>\n",
       "      <th>target</th>\n",
       "      <th>fname</th>\n",
       "    </tr>\n",
       "  </thead>\n",
       "  <tbody>\n",
       "    <tr>\n",
       "      <th>9981</th>\n",
       "      <td>/mnt/6e9adcc8-9cfe-4dbb-aaff-c2ae9c64a9bc/work...</td>\n",
       "      <td>Motorola-X</td>\n",
       "      <td>25621489482_cd84ca566c_o.jpg</td>\n",
       "    </tr>\n",
       "    <tr>\n",
       "      <th>9982</th>\n",
       "      <td>/mnt/6e9adcc8-9cfe-4dbb-aaff-c2ae9c64a9bc/work...</td>\n",
       "      <td>Motorola-X</td>\n",
       "      <td>27758303644_9656b80b76_o.jpg</td>\n",
       "    </tr>\n",
       "    <tr>\n",
       "      <th>9983</th>\n",
       "      <td>/mnt/6e9adcc8-9cfe-4dbb-aaff-c2ae9c64a9bc/work...</td>\n",
       "      <td>Motorola-X</td>\n",
       "      <td>25621500042_19f0fd826b_o.jpg</td>\n",
       "    </tr>\n",
       "    <tr>\n",
       "      <th>9984</th>\n",
       "      <td>/mnt/6e9adcc8-9cfe-4dbb-aaff-c2ae9c64a9bc/work...</td>\n",
       "      <td>Motorola-X</td>\n",
       "      <td>26044092750_426d737083_o.jpg</td>\n",
       "    </tr>\n",
       "    <tr>\n",
       "      <th>9985</th>\n",
       "      <td>/mnt/6e9adcc8-9cfe-4dbb-aaff-c2ae9c64a9bc/work...</td>\n",
       "      <td>Motorola-X</td>\n",
       "      <td>24671017261_c87b625361_o.jpg</td>\n",
       "    </tr>\n",
       "  </tbody>\n",
       "</table>\n",
       "</div>"
      ],
      "text/plain": [
       "                                              file_name      target  \\\n",
       "9981  /mnt/6e9adcc8-9cfe-4dbb-aaff-c2ae9c64a9bc/work...  Motorola-X   \n",
       "9982  /mnt/6e9adcc8-9cfe-4dbb-aaff-c2ae9c64a9bc/work...  Motorola-X   \n",
       "9983  /mnt/6e9adcc8-9cfe-4dbb-aaff-c2ae9c64a9bc/work...  Motorola-X   \n",
       "9984  /mnt/6e9adcc8-9cfe-4dbb-aaff-c2ae9c64a9bc/work...  Motorola-X   \n",
       "9985  /mnt/6e9adcc8-9cfe-4dbb-aaff-c2ae9c64a9bc/work...  Motorola-X   \n",
       "\n",
       "                             fname  \n",
       "9981  25621489482_cd84ca566c_o.jpg  \n",
       "9982  27758303644_9656b80b76_o.jpg  \n",
       "9983  25621500042_19f0fd826b_o.jpg  \n",
       "9984  26044092750_426d737083_o.jpg  \n",
       "9985  24671017261_c87b625361_o.jpg  "
      ]
     },
     "execution_count": 583,
     "metadata": {},
     "output_type": "execute_result"
    }
   ],
   "source": [
    "to_good_moto_x.head()"
   ]
  },
  {
   "cell_type": "code",
   "execution_count": 584,
   "metadata": {},
   "outputs": [
    {
     "name": "stdout",
     "output_type": "stream",
     "text": [
      "<class 'pandas.core.frame.DataFrame'>\n",
      "Int64Index: 25 entries, 9981 to 10005\n",
      "Data columns (total 3 columns):\n",
      "file_name    25 non-null object\n",
      "target       25 non-null object\n",
      "fname        25 non-null object\n",
      "dtypes: object(3)\n",
      "memory usage: 800.0+ bytes\n"
     ]
    }
   ],
   "source": [
    "to_good_moto_x.info()"
   ]
  },
  {
   "cell_type": "code",
   "execution_count": 585,
   "metadata": {},
   "outputs": [
    {
     "data": {
      "text/plain": [
       "(11578, 3)"
      ]
     },
     "execution_count": 585,
     "metadata": {},
     "output_type": "execute_result"
    }
   ],
   "source": [
    "df_flickr[~df_flickr.index.isin(to_good_moto_x.index)].shape"
   ]
  },
  {
   "cell_type": "code",
   "execution_count": 586,
   "metadata": {},
   "outputs": [
    {
     "data": {
      "text/html": [
       "<div>\n",
       "<style scoped>\n",
       "    .dataframe tbody tr th:only-of-type {\n",
       "        vertical-align: middle;\n",
       "    }\n",
       "\n",
       "    .dataframe tbody tr th {\n",
       "        vertical-align: top;\n",
       "    }\n",
       "\n",
       "    .dataframe thead th {\n",
       "        text-align: right;\n",
       "    }\n",
       "</style>\n",
       "<table border=\"1\" class=\"dataframe\">\n",
       "  <thead>\n",
       "    <tr style=\"text-align: right;\">\n",
       "      <th></th>\n",
       "      <th>file_name</th>\n",
       "      <th>target</th>\n",
       "      <th>fname</th>\n",
       "    </tr>\n",
       "  </thead>\n",
       "  <tbody>\n",
       "    <tr>\n",
       "      <th>0</th>\n",
       "      <td>/mnt/6e9adcc8-9cfe-4dbb-aaff-c2ae9c64a9bc/work...</td>\n",
       "      <td>Sony-NEX-7</td>\n",
       "      <td>24608015988_293dedc509_o.jpg</td>\n",
       "    </tr>\n",
       "    <tr>\n",
       "      <th>1</th>\n",
       "      <td>/mnt/6e9adcc8-9cfe-4dbb-aaff-c2ae9c64a9bc/work...</td>\n",
       "      <td>Sony-NEX-7</td>\n",
       "      <td>37112683936_07b43eb289_o.jpg</td>\n",
       "    </tr>\n",
       "    <tr>\n",
       "      <th>2</th>\n",
       "      <td>/mnt/6e9adcc8-9cfe-4dbb-aaff-c2ae9c64a9bc/work...</td>\n",
       "      <td>Sony-NEX-7</td>\n",
       "      <td>38685798051_21049c15dd_o.jpg</td>\n",
       "    </tr>\n",
       "    <tr>\n",
       "      <th>3</th>\n",
       "      <td>/mnt/6e9adcc8-9cfe-4dbb-aaff-c2ae9c64a9bc/work...</td>\n",
       "      <td>Sony-NEX-7</td>\n",
       "      <td>37610151464_0e87f5ec4a_o.jpg</td>\n",
       "    </tr>\n",
       "    <tr>\n",
       "      <th>4</th>\n",
       "      <td>/mnt/6e9adcc8-9cfe-4dbb-aaff-c2ae9c64a9bc/work...</td>\n",
       "      <td>Sony-NEX-7</td>\n",
       "      <td>27281298819_9785085140_o.jpg</td>\n",
       "    </tr>\n",
       "  </tbody>\n",
       "</table>\n",
       "</div>"
      ],
      "text/plain": [
       "                                           file_name      target  \\\n",
       "0  /mnt/6e9adcc8-9cfe-4dbb-aaff-c2ae9c64a9bc/work...  Sony-NEX-7   \n",
       "1  /mnt/6e9adcc8-9cfe-4dbb-aaff-c2ae9c64a9bc/work...  Sony-NEX-7   \n",
       "2  /mnt/6e9adcc8-9cfe-4dbb-aaff-c2ae9c64a9bc/work...  Sony-NEX-7   \n",
       "3  /mnt/6e9adcc8-9cfe-4dbb-aaff-c2ae9c64a9bc/work...  Sony-NEX-7   \n",
       "4  /mnt/6e9adcc8-9cfe-4dbb-aaff-c2ae9c64a9bc/work...  Sony-NEX-7   \n",
       "\n",
       "                          fname  \n",
       "0  24608015988_293dedc509_o.jpg  \n",
       "1  37112683936_07b43eb289_o.jpg  \n",
       "2  38685798051_21049c15dd_o.jpg  \n",
       "3  37610151464_0e87f5ec4a_o.jpg  \n",
       "4  27281298819_9785085140_o.jpg  "
      ]
     },
     "execution_count": 586,
     "metadata": {},
     "output_type": "execute_result"
    }
   ],
   "source": [
    "df_flickr.head()"
   ]
  },
  {
   "cell_type": "code",
   "execution_count": 587,
   "metadata": {},
   "outputs": [
    {
     "data": {
      "text/plain": [
       "(5377, 4)"
      ]
     },
     "execution_count": 587,
     "metadata": {},
     "output_type": "execute_result"
    }
   ],
   "source": [
    "good_files.shape"
   ]
  },
  {
   "cell_type": "code",
   "execution_count": 588,
   "metadata": {},
   "outputs": [],
   "source": [
    "good_files = pd.concat([good_files, to_good_moto_x]).reset_index(drop=True)"
   ]
  },
  {
   "cell_type": "code",
   "execution_count": 589,
   "metadata": {},
   "outputs": [
    {
     "name": "stdout",
     "output_type": "stream",
     "text": [
      "<class 'pandas.core.frame.DataFrame'>\n",
      "RangeIndex: 5402 entries, 0 to 5401\n",
      "Data columns (total 4 columns):\n",
      "0            5377 non-null object\n",
      "target       5402 non-null object\n",
      "fname        5402 non-null object\n",
      "file_name    5402 non-null object\n",
      "dtypes: object(4)\n",
      "memory usage: 168.9+ KB\n"
     ]
    }
   ],
   "source": [
    "good_files.info()"
   ]
  },
  {
   "cell_type": "code",
   "execution_count": 590,
   "metadata": {},
   "outputs": [],
   "source": [
    "# Let's pick 25 last images from all good files per class"
   ]
  },
  {
   "cell_type": "code",
   "execution_count": 591,
   "metadata": {},
   "outputs": [],
   "source": [
    "temp_flickr = []\n",
    "\n",
    "for target, dft in good_files.groupby('target'):\n",
    "    temp_flickr += [dft.sort_values(by='fname', ascending=False).head(25)]\n",
    "\n",
    "flickr_val = pd.concat(temp_flickr)"
   ]
  },
  {
   "cell_type": "code",
   "execution_count": 592,
   "metadata": {},
   "outputs": [
    {
     "data": {
      "text/plain": [
       "(250, 4)"
      ]
     },
     "execution_count": 592,
     "metadata": {},
     "output_type": "execute_result"
    }
   ],
   "source": [
    "flickr_val.shape"
   ]
  },
  {
   "cell_type": "code",
   "execution_count": 593,
   "metadata": {},
   "outputs": [],
   "source": [
    "flickr_val.to_csv(str(data_path / 'flickr_val.csv'), index=False)"
   ]
  },
  {
   "cell_type": "code",
   "execution_count": 594,
   "metadata": {},
   "outputs": [
    {
     "data": {
      "text/html": [
       "<div>\n",
       "<style scoped>\n",
       "    .dataframe tbody tr th:only-of-type {\n",
       "        vertical-align: middle;\n",
       "    }\n",
       "\n",
       "    .dataframe tbody tr th {\n",
       "        vertical-align: top;\n",
       "    }\n",
       "\n",
       "    .dataframe thead th {\n",
       "        text-align: right;\n",
       "    }\n",
       "</style>\n",
       "<table border=\"1\" class=\"dataframe\">\n",
       "  <thead>\n",
       "    <tr style=\"text-align: right;\">\n",
       "      <th></th>\n",
       "      <th>0</th>\n",
       "      <th>target</th>\n",
       "      <th>fname</th>\n",
       "      <th>file_name</th>\n",
       "    </tr>\n",
       "  </thead>\n",
       "  <tbody>\n",
       "    <tr>\n",
       "      <th>2769</th>\n",
       "      <td>./htc_m7/38859029272_1b16047636_o.jpg</td>\n",
       "      <td>HTC-1-M7</td>\n",
       "      <td>38859029272_1b16047636_o.jpg</td>\n",
       "      <td>/mnt/6e9adcc8-9cfe-4dbb-aaff-c2ae9c64a9bc/work...</td>\n",
       "    </tr>\n",
       "    <tr>\n",
       "      <th>2161</th>\n",
       "      <td>./htc_m7/38585002062_806722481d_o.jpg</td>\n",
       "      <td>HTC-1-M7</td>\n",
       "      <td>38585002062_806722481d_o.jpg</td>\n",
       "      <td>/mnt/6e9adcc8-9cfe-4dbb-aaff-c2ae9c64a9bc/work...</td>\n",
       "    </tr>\n",
       "    <tr>\n",
       "      <th>2515</th>\n",
       "      <td>./htc_m7/38571347432_dfc8ca35cf_o.jpg</td>\n",
       "      <td>HTC-1-M7</td>\n",
       "      <td>38571347432_dfc8ca35cf_o.jpg</td>\n",
       "      <td>/mnt/6e9adcc8-9cfe-4dbb-aaff-c2ae9c64a9bc/work...</td>\n",
       "    </tr>\n",
       "    <tr>\n",
       "      <th>2881</th>\n",
       "      <td>./htc_m7/38560679106_3c868713f8_o.jpg</td>\n",
       "      <td>HTC-1-M7</td>\n",
       "      <td>38560679106_3c868713f8_o.jpg</td>\n",
       "      <td>/mnt/6e9adcc8-9cfe-4dbb-aaff-c2ae9c64a9bc/work...</td>\n",
       "    </tr>\n",
       "    <tr>\n",
       "      <th>2402</th>\n",
       "      <td>./htc_m7/38382462172_f1183ecc50_o.jpg</td>\n",
       "      <td>HTC-1-M7</td>\n",
       "      <td>38382462172_f1183ecc50_o.jpg</td>\n",
       "      <td>/mnt/6e9adcc8-9cfe-4dbb-aaff-c2ae9c64a9bc/work...</td>\n",
       "    </tr>\n",
       "  </tbody>\n",
       "</table>\n",
       "</div>"
      ],
      "text/plain": [
       "                                          0    target  \\\n",
       "2769  ./htc_m7/38859029272_1b16047636_o.jpg  HTC-1-M7   \n",
       "2161  ./htc_m7/38585002062_806722481d_o.jpg  HTC-1-M7   \n",
       "2515  ./htc_m7/38571347432_dfc8ca35cf_o.jpg  HTC-1-M7   \n",
       "2881  ./htc_m7/38560679106_3c868713f8_o.jpg  HTC-1-M7   \n",
       "2402  ./htc_m7/38382462172_f1183ecc50_o.jpg  HTC-1-M7   \n",
       "\n",
       "                             fname  \\\n",
       "2769  38859029272_1b16047636_o.jpg   \n",
       "2161  38585002062_806722481d_o.jpg   \n",
       "2515  38571347432_dfc8ca35cf_o.jpg   \n",
       "2881  38560679106_3c868713f8_o.jpg   \n",
       "2402  38382462172_f1183ecc50_o.jpg   \n",
       "\n",
       "                                              file_name  \n",
       "2769  /mnt/6e9adcc8-9cfe-4dbb-aaff-c2ae9c64a9bc/work...  \n",
       "2161  /mnt/6e9adcc8-9cfe-4dbb-aaff-c2ae9c64a9bc/work...  \n",
       "2515  /mnt/6e9adcc8-9cfe-4dbb-aaff-c2ae9c64a9bc/work...  \n",
       "2881  /mnt/6e9adcc8-9cfe-4dbb-aaff-c2ae9c64a9bc/work...  \n",
       "2402  /mnt/6e9adcc8-9cfe-4dbb-aaff-c2ae9c64a9bc/work...  "
      ]
     },
     "execution_count": 594,
     "metadata": {},
     "output_type": "execute_result"
    }
   ],
   "source": [
    "flickr_val.head()"
   ]
  },
  {
   "cell_type": "code",
   "execution_count": 595,
   "metadata": {},
   "outputs": [
    {
     "name": "stdout",
     "output_type": "stream",
     "text": [
      "<class 'pandas.core.frame.DataFrame'>\n",
      "Int64Index: 250 entries, 2769 to 64\n",
      "Data columns (total 4 columns):\n",
      "0            225 non-null object\n",
      "target       250 non-null object\n",
      "fname        250 non-null object\n",
      "file_name    250 non-null object\n",
      "dtypes: object(4)\n",
      "memory usage: 9.8+ KB\n"
     ]
    }
   ],
   "source": [
    "flickr_val.info()"
   ]
  },
  {
   "cell_type": "code",
   "execution_count": 596,
   "metadata": {},
   "outputs": [],
   "source": [
    "flickr_val['id'] = flickr_val['target'] + '_' + flickr_val['fname']"
   ]
  },
  {
   "cell_type": "code",
   "execution_count": 597,
   "metadata": {},
   "outputs": [],
   "source": [
    "df_flickr['id'] = df_flickr['target'] + '_' + df_flickr['fname']"
   ]
  },
  {
   "cell_type": "code",
   "execution_count": 598,
   "metadata": {},
   "outputs": [
    {
     "data": {
      "text/html": [
       "<div>\n",
       "<style scoped>\n",
       "    .dataframe tbody tr th:only-of-type {\n",
       "        vertical-align: middle;\n",
       "    }\n",
       "\n",
       "    .dataframe tbody tr th {\n",
       "        vertical-align: top;\n",
       "    }\n",
       "\n",
       "    .dataframe thead th {\n",
       "        text-align: right;\n",
       "    }\n",
       "</style>\n",
       "<table border=\"1\" class=\"dataframe\">\n",
       "  <thead>\n",
       "    <tr style=\"text-align: right;\">\n",
       "      <th></th>\n",
       "      <th>0</th>\n",
       "      <th>target</th>\n",
       "      <th>fname</th>\n",
       "      <th>file_name</th>\n",
       "    </tr>\n",
       "  </thead>\n",
       "  <tbody>\n",
       "    <tr>\n",
       "      <th>0</th>\n",
       "      <td>./iphone_6/25563861418_8d7f66072a_o.jpg</td>\n",
       "      <td>iPhone-6</td>\n",
       "      <td>25563861418_8d7f66072a_o.jpg</td>\n",
       "      <td>/mnt/6e9adcc8-9cfe-4dbb-aaff-c2ae9c64a9bc/work...</td>\n",
       "    </tr>\n",
       "    <tr>\n",
       "      <th>1</th>\n",
       "      <td>./iphone_6/24568168517_2156a82e69_o.jpg</td>\n",
       "      <td>iPhone-6</td>\n",
       "      <td>24568168517_2156a82e69_o.jpg</td>\n",
       "      <td>/mnt/6e9adcc8-9cfe-4dbb-aaff-c2ae9c64a9bc/work...</td>\n",
       "    </tr>\n",
       "    <tr>\n",
       "      <th>2</th>\n",
       "      <td>./iphone_6/39399094622_a1b6a0e180_o.jpg</td>\n",
       "      <td>iPhone-6</td>\n",
       "      <td>39399094622_a1b6a0e180_o.jpg</td>\n",
       "      <td>/mnt/6e9adcc8-9cfe-4dbb-aaff-c2ae9c64a9bc/work...</td>\n",
       "    </tr>\n",
       "    <tr>\n",
       "      <th>3</th>\n",
       "      <td>./iphone_6/27636118319_f2a473fe32_o.jpg</td>\n",
       "      <td>iPhone-6</td>\n",
       "      <td>27636118319_f2a473fe32_o.jpg</td>\n",
       "      <td>/mnt/6e9adcc8-9cfe-4dbb-aaff-c2ae9c64a9bc/work...</td>\n",
       "    </tr>\n",
       "    <tr>\n",
       "      <th>4</th>\n",
       "      <td>./iphone_6/25537289038_bcf25bef2b_o.jpg</td>\n",
       "      <td>iPhone-6</td>\n",
       "      <td>25537289038_bcf25bef2b_o.jpg</td>\n",
       "      <td>/mnt/6e9adcc8-9cfe-4dbb-aaff-c2ae9c64a9bc/work...</td>\n",
       "    </tr>\n",
       "  </tbody>\n",
       "</table>\n",
       "</div>"
      ],
      "text/plain": [
       "                                         0    target  \\\n",
       "0  ./iphone_6/25563861418_8d7f66072a_o.jpg  iPhone-6   \n",
       "1  ./iphone_6/24568168517_2156a82e69_o.jpg  iPhone-6   \n",
       "2  ./iphone_6/39399094622_a1b6a0e180_o.jpg  iPhone-6   \n",
       "3  ./iphone_6/27636118319_f2a473fe32_o.jpg  iPhone-6   \n",
       "4  ./iphone_6/25537289038_bcf25bef2b_o.jpg  iPhone-6   \n",
       "\n",
       "                          fname  \\\n",
       "0  25563861418_8d7f66072a_o.jpg   \n",
       "1  24568168517_2156a82e69_o.jpg   \n",
       "2  39399094622_a1b6a0e180_o.jpg   \n",
       "3  27636118319_f2a473fe32_o.jpg   \n",
       "4  25537289038_bcf25bef2b_o.jpg   \n",
       "\n",
       "                                           file_name  \n",
       "0  /mnt/6e9adcc8-9cfe-4dbb-aaff-c2ae9c64a9bc/work...  \n",
       "1  /mnt/6e9adcc8-9cfe-4dbb-aaff-c2ae9c64a9bc/work...  \n",
       "2  /mnt/6e9adcc8-9cfe-4dbb-aaff-c2ae9c64a9bc/work...  \n",
       "3  /mnt/6e9adcc8-9cfe-4dbb-aaff-c2ae9c64a9bc/work...  \n",
       "4  /mnt/6e9adcc8-9cfe-4dbb-aaff-c2ae9c64a9bc/work...  "
      ]
     },
     "execution_count": 598,
     "metadata": {},
     "output_type": "execute_result"
    }
   ],
   "source": [
    "good_files.head()"
   ]
  },
  {
   "cell_type": "code",
   "execution_count": 599,
   "metadata": {},
   "outputs": [],
   "source": [
    "a = pd.DataFrame({'id': flickr_val['id'].values, 'is_val': flickr_val['file_name'].notnull()})"
   ]
  },
  {
   "cell_type": "code",
   "execution_count": 600,
   "metadata": {},
   "outputs": [
    {
     "data": {
      "text/html": [
       "<div>\n",
       "<style scoped>\n",
       "    .dataframe tbody tr th:only-of-type {\n",
       "        vertical-align: middle;\n",
       "    }\n",
       "\n",
       "    .dataframe tbody tr th {\n",
       "        vertical-align: top;\n",
       "    }\n",
       "\n",
       "    .dataframe thead th {\n",
       "        text-align: right;\n",
       "    }\n",
       "</style>\n",
       "<table border=\"1\" class=\"dataframe\">\n",
       "  <thead>\n",
       "    <tr style=\"text-align: right;\">\n",
       "      <th></th>\n",
       "      <th>id</th>\n",
       "      <th>is_val</th>\n",
       "    </tr>\n",
       "  </thead>\n",
       "  <tbody>\n",
       "    <tr>\n",
       "      <th>2769</th>\n",
       "      <td>HTC-1-M7_38859029272_1b16047636_o.jpg</td>\n",
       "      <td>True</td>\n",
       "    </tr>\n",
       "    <tr>\n",
       "      <th>2161</th>\n",
       "      <td>HTC-1-M7_38585002062_806722481d_o.jpg</td>\n",
       "      <td>True</td>\n",
       "    </tr>\n",
       "    <tr>\n",
       "      <th>2515</th>\n",
       "      <td>HTC-1-M7_38571347432_dfc8ca35cf_o.jpg</td>\n",
       "      <td>True</td>\n",
       "    </tr>\n",
       "    <tr>\n",
       "      <th>2881</th>\n",
       "      <td>HTC-1-M7_38560679106_3c868713f8_o.jpg</td>\n",
       "      <td>True</td>\n",
       "    </tr>\n",
       "    <tr>\n",
       "      <th>2402</th>\n",
       "      <td>HTC-1-M7_38382462172_f1183ecc50_o.jpg</td>\n",
       "      <td>True</td>\n",
       "    </tr>\n",
       "  </tbody>\n",
       "</table>\n",
       "</div>"
      ],
      "text/plain": [
       "                                         id  is_val\n",
       "2769  HTC-1-M7_38859029272_1b16047636_o.jpg    True\n",
       "2161  HTC-1-M7_38585002062_806722481d_o.jpg    True\n",
       "2515  HTC-1-M7_38571347432_dfc8ca35cf_o.jpg    True\n",
       "2881  HTC-1-M7_38560679106_3c868713f8_o.jpg    True\n",
       "2402  HTC-1-M7_38382462172_f1183ecc50_o.jpg    True"
      ]
     },
     "execution_count": 600,
     "metadata": {},
     "output_type": "execute_result"
    }
   ],
   "source": [
    "a.head()"
   ]
  },
  {
   "cell_type": "code",
   "execution_count": 601,
   "metadata": {},
   "outputs": [
    {
     "data": {
      "text/html": [
       "<div>\n",
       "<style scoped>\n",
       "    .dataframe tbody tr th:only-of-type {\n",
       "        vertical-align: middle;\n",
       "    }\n",
       "\n",
       "    .dataframe tbody tr th {\n",
       "        vertical-align: top;\n",
       "    }\n",
       "\n",
       "    .dataframe thead th {\n",
       "        text-align: right;\n",
       "    }\n",
       "</style>\n",
       "<table border=\"1\" class=\"dataframe\">\n",
       "  <thead>\n",
       "    <tr style=\"text-align: right;\">\n",
       "      <th></th>\n",
       "      <th>file_name</th>\n",
       "      <th>target</th>\n",
       "      <th>fname</th>\n",
       "      <th>id</th>\n",
       "    </tr>\n",
       "  </thead>\n",
       "  <tbody>\n",
       "    <tr>\n",
       "      <th>9981</th>\n",
       "      <td>/mnt/6e9adcc8-9cfe-4dbb-aaff-c2ae9c64a9bc/work...</td>\n",
       "      <td>Motorola-X</td>\n",
       "      <td>25621489482_cd84ca566c_o.jpg</td>\n",
       "      <td>Motorola-X_25621489482_cd84ca566c_o.jpg</td>\n",
       "    </tr>\n",
       "    <tr>\n",
       "      <th>9982</th>\n",
       "      <td>/mnt/6e9adcc8-9cfe-4dbb-aaff-c2ae9c64a9bc/work...</td>\n",
       "      <td>Motorola-X</td>\n",
       "      <td>27758303644_9656b80b76_o.jpg</td>\n",
       "      <td>Motorola-X_27758303644_9656b80b76_o.jpg</td>\n",
       "    </tr>\n",
       "    <tr>\n",
       "      <th>9983</th>\n",
       "      <td>/mnt/6e9adcc8-9cfe-4dbb-aaff-c2ae9c64a9bc/work...</td>\n",
       "      <td>Motorola-X</td>\n",
       "      <td>25621500042_19f0fd826b_o.jpg</td>\n",
       "      <td>Motorola-X_25621500042_19f0fd826b_o.jpg</td>\n",
       "    </tr>\n",
       "    <tr>\n",
       "      <th>9984</th>\n",
       "      <td>/mnt/6e9adcc8-9cfe-4dbb-aaff-c2ae9c64a9bc/work...</td>\n",
       "      <td>Motorola-X</td>\n",
       "      <td>26044092750_426d737083_o.jpg</td>\n",
       "      <td>Motorola-X_26044092750_426d737083_o.jpg</td>\n",
       "    </tr>\n",
       "    <tr>\n",
       "      <th>9985</th>\n",
       "      <td>/mnt/6e9adcc8-9cfe-4dbb-aaff-c2ae9c64a9bc/work...</td>\n",
       "      <td>Motorola-X</td>\n",
       "      <td>24671017261_c87b625361_o.jpg</td>\n",
       "      <td>Motorola-X_24671017261_c87b625361_o.jpg</td>\n",
       "    </tr>\n",
       "  </tbody>\n",
       "</table>\n",
       "</div>"
      ],
      "text/plain": [
       "                                              file_name      target  \\\n",
       "9981  /mnt/6e9adcc8-9cfe-4dbb-aaff-c2ae9c64a9bc/work...  Motorola-X   \n",
       "9982  /mnt/6e9adcc8-9cfe-4dbb-aaff-c2ae9c64a9bc/work...  Motorola-X   \n",
       "9983  /mnt/6e9adcc8-9cfe-4dbb-aaff-c2ae9c64a9bc/work...  Motorola-X   \n",
       "9984  /mnt/6e9adcc8-9cfe-4dbb-aaff-c2ae9c64a9bc/work...  Motorola-X   \n",
       "9985  /mnt/6e9adcc8-9cfe-4dbb-aaff-c2ae9c64a9bc/work...  Motorola-X   \n",
       "\n",
       "                             fname                                       id  \n",
       "9981  25621489482_cd84ca566c_o.jpg  Motorola-X_25621489482_cd84ca566c_o.jpg  \n",
       "9982  27758303644_9656b80b76_o.jpg  Motorola-X_27758303644_9656b80b76_o.jpg  \n",
       "9983  25621500042_19f0fd826b_o.jpg  Motorola-X_25621500042_19f0fd826b_o.jpg  \n",
       "9984  26044092750_426d737083_o.jpg  Motorola-X_26044092750_426d737083_o.jpg  \n",
       "9985  24671017261_c87b625361_o.jpg  Motorola-X_24671017261_c87b625361_o.jpg  "
      ]
     },
     "execution_count": 601,
     "metadata": {},
     "output_type": "execute_result"
    }
   ],
   "source": [
    "df_flickr[df_flickr['target'] == 'Motorola-X'].head()"
   ]
  },
  {
   "cell_type": "code",
   "execution_count": 602,
   "metadata": {},
   "outputs": [],
   "source": [
    "flickr_val['id'] = flickr_val['id'].astype(str)\n",
    "df_flickr['id'] = df_flickr['id'].astype(str)"
   ]
  },
  {
   "cell_type": "code",
   "execution_count": 603,
   "metadata": {},
   "outputs": [],
   "source": [
    "train_good = df_flickr.merge(a, on='id', how='left')"
   ]
  },
  {
   "cell_type": "code",
   "execution_count": 604,
   "metadata": {},
   "outputs": [
    {
     "data": {
      "text/plain": [
       "['HTC-1-M7',\n",
       " 'LG-Nexus-5x',\n",
       " 'Motorola-Droid-Maxx',\n",
       " 'Motorola-Nexus-6',\n",
       " 'Motorola-X',\n",
       " 'Samsung-Galaxy-Note3',\n",
       " 'Samsung-Galaxy-S4',\n",
       " 'Sony-NEX-7',\n",
       " 'iPhone-4s',\n",
       " 'iPhone-6']"
      ]
     },
     "execution_count": 604,
     "metadata": {},
     "output_type": "execute_result"
    }
   ],
   "source": [
    "sorted(df_flickr['target'].unique())"
   ]
  },
  {
   "cell_type": "code",
   "execution_count": 605,
   "metadata": {},
   "outputs": [
    {
     "data": {
      "text/plain": [
       "['HTC-1-M7',\n",
       " 'LG-Nexus-5x',\n",
       " 'Motorola-Droid-Maxx',\n",
       " 'Motorola-Nexus-6',\n",
       " 'Motorola-X',\n",
       " 'Samsung-Galaxy-Note3',\n",
       " 'Samsung-Galaxy-S4',\n",
       " 'Sony-NEX-7',\n",
       " 'iPhone-4s',\n",
       " 'iPhone-6']"
      ]
     },
     "execution_count": 605,
     "metadata": {},
     "output_type": "execute_result"
    }
   ],
   "source": [
    "sorted(flickr_val['target'].unique())"
   ]
  },
  {
   "cell_type": "code",
   "execution_count": 606,
   "metadata": {},
   "outputs": [
    {
     "name": "stdout",
     "output_type": "stream",
     "text": [
      "<class 'pandas.core.frame.DataFrame'>\n",
      "RangeIndex: 11603 entries, 0 to 11602\n",
      "Data columns (total 4 columns):\n",
      "file_name    11603 non-null object\n",
      "target       11603 non-null object\n",
      "fname        11603 non-null object\n",
      "id           11603 non-null object\n",
      "dtypes: object(4)\n",
      "memory usage: 362.7+ KB\n"
     ]
    }
   ],
   "source": [
    "df_flickr.info()"
   ]
  },
  {
   "cell_type": "code",
   "execution_count": 607,
   "metadata": {},
   "outputs": [
    {
     "name": "stdout",
     "output_type": "stream",
     "text": [
      "<class 'pandas.core.frame.DataFrame'>\n",
      "Int64Index: 11603 entries, 0 to 11602\n",
      "Data columns (total 5 columns):\n",
      "file_name    11603 non-null object\n",
      "target       11603 non-null object\n",
      "fname        11603 non-null object\n",
      "id           11603 non-null object\n",
      "is_val       250 non-null object\n",
      "dtypes: object(5)\n",
      "memory usage: 543.9+ KB\n"
     ]
    }
   ],
   "source": [
    "train_good.info()"
   ]
  },
  {
   "cell_type": "code",
   "execution_count": 608,
   "metadata": {},
   "outputs": [
    {
     "data": {
      "text/plain": [
       "['HTC-1-M7',\n",
       " 'LG-Nexus-5x',\n",
       " 'Motorola-Droid-Maxx',\n",
       " 'Motorola-Nexus-6',\n",
       " 'Motorola-X',\n",
       " 'Samsung-Galaxy-Note3',\n",
       " 'Samsung-Galaxy-S4',\n",
       " 'Sony-NEX-7',\n",
       " 'iPhone-4s',\n",
       " 'iPhone-6']"
      ]
     },
     "execution_count": 608,
     "metadata": {},
     "output_type": "execute_result"
    }
   ],
   "source": [
    "sorted(train_good.loc[train_good['is_val'].notnull(), 'target'].unique())"
   ]
  },
  {
   "cell_type": "code",
   "execution_count": 609,
   "metadata": {},
   "outputs": [
    {
     "data": {
      "text/plain": [
       "['HTC-1-M7',\n",
       " 'LG-Nexus-5x',\n",
       " 'Motorola-Droid-Maxx',\n",
       " 'Motorola-Nexus-6',\n",
       " 'Motorola-X',\n",
       " 'Samsung-Galaxy-Note3',\n",
       " 'Samsung-Galaxy-S4',\n",
       " 'Sony-NEX-7',\n",
       " 'iPhone-4s',\n",
       " 'iPhone-6']"
      ]
     },
     "execution_count": 609,
     "metadata": {},
     "output_type": "execute_result"
    }
   ],
   "source": [
    "sorted(flickr_val['target'].unique())"
   ]
  },
  {
   "cell_type": "code",
   "execution_count": 610,
   "metadata": {},
   "outputs": [
    {
     "data": {
      "text/html": [
       "<div>\n",
       "<style scoped>\n",
       "    .dataframe tbody tr th:only-of-type {\n",
       "        vertical-align: middle;\n",
       "    }\n",
       "\n",
       "    .dataframe tbody tr th {\n",
       "        vertical-align: top;\n",
       "    }\n",
       "\n",
       "    .dataframe thead th {\n",
       "        text-align: right;\n",
       "    }\n",
       "</style>\n",
       "<table border=\"1\" class=\"dataframe\">\n",
       "  <thead>\n",
       "    <tr style=\"text-align: right;\">\n",
       "      <th></th>\n",
       "      <th>file_name</th>\n",
       "      <th>target</th>\n",
       "      <th>fname</th>\n",
       "      <th>id</th>\n",
       "      <th>is_val</th>\n",
       "    </tr>\n",
       "  </thead>\n",
       "  <tbody>\n",
       "    <tr>\n",
       "      <th>0</th>\n",
       "      <td>/mnt/6e9adcc8-9cfe-4dbb-aaff-c2ae9c64a9bc/work...</td>\n",
       "      <td>Sony-NEX-7</td>\n",
       "      <td>24608015988_293dedc509_o.jpg</td>\n",
       "      <td>Sony-NEX-7_24608015988_293dedc509_o.jpg</td>\n",
       "      <td>NaN</td>\n",
       "    </tr>\n",
       "    <tr>\n",
       "      <th>1</th>\n",
       "      <td>/mnt/6e9adcc8-9cfe-4dbb-aaff-c2ae9c64a9bc/work...</td>\n",
       "      <td>Sony-NEX-7</td>\n",
       "      <td>37112683936_07b43eb289_o.jpg</td>\n",
       "      <td>Sony-NEX-7_37112683936_07b43eb289_o.jpg</td>\n",
       "      <td>NaN</td>\n",
       "    </tr>\n",
       "    <tr>\n",
       "      <th>2</th>\n",
       "      <td>/mnt/6e9adcc8-9cfe-4dbb-aaff-c2ae9c64a9bc/work...</td>\n",
       "      <td>Sony-NEX-7</td>\n",
       "      <td>38685798051_21049c15dd_o.jpg</td>\n",
       "      <td>Sony-NEX-7_38685798051_21049c15dd_o.jpg</td>\n",
       "      <td>NaN</td>\n",
       "    </tr>\n",
       "    <tr>\n",
       "      <th>3</th>\n",
       "      <td>/mnt/6e9adcc8-9cfe-4dbb-aaff-c2ae9c64a9bc/work...</td>\n",
       "      <td>Sony-NEX-7</td>\n",
       "      <td>37610151464_0e87f5ec4a_o.jpg</td>\n",
       "      <td>Sony-NEX-7_37610151464_0e87f5ec4a_o.jpg</td>\n",
       "      <td>NaN</td>\n",
       "    </tr>\n",
       "    <tr>\n",
       "      <th>4</th>\n",
       "      <td>/mnt/6e9adcc8-9cfe-4dbb-aaff-c2ae9c64a9bc/work...</td>\n",
       "      <td>Sony-NEX-7</td>\n",
       "      <td>27281298819_9785085140_o.jpg</td>\n",
       "      <td>Sony-NEX-7_27281298819_9785085140_o.jpg</td>\n",
       "      <td>NaN</td>\n",
       "    </tr>\n",
       "  </tbody>\n",
       "</table>\n",
       "</div>"
      ],
      "text/plain": [
       "                                           file_name      target  \\\n",
       "0  /mnt/6e9adcc8-9cfe-4dbb-aaff-c2ae9c64a9bc/work...  Sony-NEX-7   \n",
       "1  /mnt/6e9adcc8-9cfe-4dbb-aaff-c2ae9c64a9bc/work...  Sony-NEX-7   \n",
       "2  /mnt/6e9adcc8-9cfe-4dbb-aaff-c2ae9c64a9bc/work...  Sony-NEX-7   \n",
       "3  /mnt/6e9adcc8-9cfe-4dbb-aaff-c2ae9c64a9bc/work...  Sony-NEX-7   \n",
       "4  /mnt/6e9adcc8-9cfe-4dbb-aaff-c2ae9c64a9bc/work...  Sony-NEX-7   \n",
       "\n",
       "                          fname                                       id  \\\n",
       "0  24608015988_293dedc509_o.jpg  Sony-NEX-7_24608015988_293dedc509_o.jpg   \n",
       "1  37112683936_07b43eb289_o.jpg  Sony-NEX-7_37112683936_07b43eb289_o.jpg   \n",
       "2  38685798051_21049c15dd_o.jpg  Sony-NEX-7_38685798051_21049c15dd_o.jpg   \n",
       "3  37610151464_0e87f5ec4a_o.jpg  Sony-NEX-7_37610151464_0e87f5ec4a_o.jpg   \n",
       "4  27281298819_9785085140_o.jpg  Sony-NEX-7_27281298819_9785085140_o.jpg   \n",
       "\n",
       "  is_val  \n",
       "0    NaN  \n",
       "1    NaN  \n",
       "2    NaN  \n",
       "3    NaN  \n",
       "4    NaN  "
      ]
     },
     "execution_count": 610,
     "metadata": {},
     "output_type": "execute_result"
    }
   ],
   "source": [
    "train_good.head()"
   ]
  },
  {
   "cell_type": "code",
   "execution_count": 611,
   "metadata": {},
   "outputs": [],
   "source": [
    "flickr_val_df = train_good[train_good['is_val'].notnull()]\n",
    "flickr_train_df = train_good[train_good['is_val'].isnull()]"
   ]
  },
  {
   "cell_type": "code",
   "execution_count": 612,
   "metadata": {},
   "outputs": [],
   "source": [
    "flickr_val_df.to_csv(str(data_path / 'flickr_val.csv'), index=False)"
   ]
  },
  {
   "cell_type": "code",
   "execution_count": 613,
   "metadata": {},
   "outputs": [],
   "source": [
    "flickr_train_df.to_csv(str(data_path / 'flickr_train.csv'), index=False)"
   ]
  },
  {
   "cell_type": "code",
   "execution_count": 614,
   "metadata": {},
   "outputs": [
    {
     "data": {
      "text/html": [
       "<div>\n",
       "<style scoped>\n",
       "    .dataframe tbody tr th:only-of-type {\n",
       "        vertical-align: middle;\n",
       "    }\n",
       "\n",
       "    .dataframe tbody tr th {\n",
       "        vertical-align: top;\n",
       "    }\n",
       "\n",
       "    .dataframe thead th {\n",
       "        text-align: right;\n",
       "    }\n",
       "</style>\n",
       "<table border=\"1\" class=\"dataframe\">\n",
       "  <thead>\n",
       "    <tr style=\"text-align: right;\">\n",
       "      <th></th>\n",
       "      <th>file_name</th>\n",
       "      <th>target</th>\n",
       "      <th>fname</th>\n",
       "      <th>id</th>\n",
       "      <th>is_val</th>\n",
       "    </tr>\n",
       "  </thead>\n",
       "  <tbody>\n",
       "    <tr>\n",
       "      <th>10001</th>\n",
       "      <td>/mnt/6e9adcc8-9cfe-4dbb-aaff-c2ae9c64a9bc/work...</td>\n",
       "      <td>Motorola-X</td>\n",
       "      <td>29825925680_1ecd29e75a_o.jpg</td>\n",
       "      <td>Motorola-X_29825925680_1ecd29e75a_o.jpg</td>\n",
       "      <td>True</td>\n",
       "    </tr>\n",
       "    <tr>\n",
       "      <th>10002</th>\n",
       "      <td>/mnt/6e9adcc8-9cfe-4dbb-aaff-c2ae9c64a9bc/work...</td>\n",
       "      <td>Motorola-X</td>\n",
       "      <td>25714194673_9529e6e39d_o.jpg</td>\n",
       "      <td>Motorola-X_25714194673_9529e6e39d_o.jpg</td>\n",
       "      <td>True</td>\n",
       "    </tr>\n",
       "    <tr>\n",
       "      <th>10003</th>\n",
       "      <td>/mnt/6e9adcc8-9cfe-4dbb-aaff-c2ae9c64a9bc/work...</td>\n",
       "      <td>Motorola-X</td>\n",
       "      <td>28324695451_f84b1bf471_o.jpg</td>\n",
       "      <td>Motorola-X_28324695451_f84b1bf471_o.jpg</td>\n",
       "      <td>True</td>\n",
       "    </tr>\n",
       "    <tr>\n",
       "      <th>10004</th>\n",
       "      <td>/mnt/6e9adcc8-9cfe-4dbb-aaff-c2ae9c64a9bc/work...</td>\n",
       "      <td>Motorola-X</td>\n",
       "      <td>26121344776_66f24de818_o.jpg</td>\n",
       "      <td>Motorola-X_26121344776_66f24de818_o.jpg</td>\n",
       "      <td>True</td>\n",
       "    </tr>\n",
       "    <tr>\n",
       "      <th>10005</th>\n",
       "      <td>/mnt/6e9adcc8-9cfe-4dbb-aaff-c2ae9c64a9bc/work...</td>\n",
       "      <td>Motorola-X</td>\n",
       "      <td>28650836986_8a82d620f5_o.jpg</td>\n",
       "      <td>Motorola-X_28650836986_8a82d620f5_o.jpg</td>\n",
       "      <td>True</td>\n",
       "    </tr>\n",
       "  </tbody>\n",
       "</table>\n",
       "</div>"
      ],
      "text/plain": [
       "                                               file_name      target  \\\n",
       "10001  /mnt/6e9adcc8-9cfe-4dbb-aaff-c2ae9c64a9bc/work...  Motorola-X   \n",
       "10002  /mnt/6e9adcc8-9cfe-4dbb-aaff-c2ae9c64a9bc/work...  Motorola-X   \n",
       "10003  /mnt/6e9adcc8-9cfe-4dbb-aaff-c2ae9c64a9bc/work...  Motorola-X   \n",
       "10004  /mnt/6e9adcc8-9cfe-4dbb-aaff-c2ae9c64a9bc/work...  Motorola-X   \n",
       "10005  /mnt/6e9adcc8-9cfe-4dbb-aaff-c2ae9c64a9bc/work...  Motorola-X   \n",
       "\n",
       "                              fname                                       id  \\\n",
       "10001  29825925680_1ecd29e75a_o.jpg  Motorola-X_29825925680_1ecd29e75a_o.jpg   \n",
       "10002  25714194673_9529e6e39d_o.jpg  Motorola-X_25714194673_9529e6e39d_o.jpg   \n",
       "10003  28324695451_f84b1bf471_o.jpg  Motorola-X_28324695451_f84b1bf471_o.jpg   \n",
       "10004  26121344776_66f24de818_o.jpg  Motorola-X_26121344776_66f24de818_o.jpg   \n",
       "10005  28650836986_8a82d620f5_o.jpg  Motorola-X_28650836986_8a82d620f5_o.jpg   \n",
       "\n",
       "      is_val  \n",
       "10001   True  \n",
       "10002   True  \n",
       "10003   True  \n",
       "10004   True  \n",
       "10005   True  "
      ]
     },
     "execution_count": 614,
     "metadata": {},
     "output_type": "execute_result"
    }
   ],
   "source": [
    "flickr_val_df.tail()"
   ]
  },
  {
   "cell_type": "code",
   "execution_count": 615,
   "metadata": {},
   "outputs": [
    {
     "data": {
      "text/plain": [
       "Motorola-Droid-Maxx     25\n",
       "Motorola-Nexus-6        25\n",
       "Sony-NEX-7              25\n",
       "HTC-1-M7                25\n",
       "iPhone-4s               25\n",
       "Samsung-Galaxy-Note3    25\n",
       "Samsung-Galaxy-S4       25\n",
       "LG-Nexus-5x             25\n",
       "Motorola-X              25\n",
       "iPhone-6                25\n",
       "Name: target, dtype: int64"
      ]
     },
     "execution_count": 615,
     "metadata": {},
     "output_type": "execute_result"
    }
   ],
   "source": [
    "flickr_val['target'].value_counts()"
   ]
  },
  {
   "cell_type": "code",
   "execution_count": null,
   "metadata": {},
   "outputs": [],
   "source": []
  }
 ],
 "metadata": {
  "kernelspec": {
   "display_name": "Python 3",
   "language": "python",
   "name": "python3"
  },
  "language_info": {
   "codemirror_mode": {
    "name": "ipython",
    "version": 3
   },
   "file_extension": ".py",
   "mimetype": "text/x-python",
   "name": "python",
   "nbconvert_exporter": "python",
   "pygments_lexer": "ipython3",
   "version": "3.6.1"
  }
 },
 "nbformat": 4,
 "nbformat_minor": 2
}
